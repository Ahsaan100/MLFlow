{
 "cells": [
  {
   "cell_type": "code",
   "execution_count": 15,
   "id": "e8284194",
   "metadata": {},
   "outputs": [],
   "source": [
    "import numpy as np\n",
    "from hyperopt import (\n",
    "    fmin,\n",
    "    hp,\n",
    "    tpe\n",
    ")"
   ]
  },
  {
   "cell_type": "code",
   "execution_count": 16,
   "id": "8ec86e0f",
   "metadata": {},
   "outputs": [],
   "source": [
    "#!pip install hyperopt"
   ]
  },
  {
   "cell_type": "code",
   "execution_count": 17,
   "id": "d2f6dcb6",
   "metadata": {},
   "outputs": [
    {
     "data": {
      "text/plain": [
       "4"
      ]
     },
     "execution_count": 17,
     "metadata": {},
     "output_type": "execute_result"
    }
   ],
   "source": [
    "def objective(x):\n",
    "    return np.square(x - 5)+ 4\n",
    "objective(5)"
   ]
  },
  {
   "cell_type": "code",
   "execution_count": 18,
   "id": "42bbfa89",
   "metadata": {},
   "outputs": [
    {
     "data": {
      "text/plain": [
       "<hyperopt.pyll.base.Apply at 0x17d069e2990>"
      ]
     },
     "execution_count": 18,
     "metadata": {},
     "output_type": "execute_result"
    }
   ],
   "source": [
    "#hyperparameter space\n",
    "space = hp.uniform('x', -100,100)\n",
    "space"
   ]
  },
  {
   "cell_type": "code",
   "execution_count": 21,
   "id": "c12c8f99",
   "metadata": {},
   "outputs": [
    {
     "name": "stdout",
     "output_type": "stream",
     "text": [
      "100%|██████████████████████████████████████████████| 500/500 [00:03<00:00, 162.82trial/s, best loss: 4.009821040881101]\n"
     ]
    }
   ],
   "source": [
    "best = fmin(fn = objective, space = space, algo = tpe.suggest, max_evals=500)"
   ]
  },
  {
   "cell_type": "code",
   "execution_count": 22,
   "id": "18f23739",
   "metadata": {},
   "outputs": [
    {
     "data": {
      "text/plain": [
       "{'x': 4.900898835117339}"
      ]
     },
     "execution_count": 22,
     "metadata": {},
     "output_type": "execute_result"
    }
   ],
   "source": [
    "best"
   ]
  },
  {
   "cell_type": "code",
   "execution_count": null,
   "id": "602d09bf",
   "metadata": {},
   "outputs": [],
   "source": []
  }
 ],
 "metadata": {
  "kernelspec": {
   "display_name": "Python 3 (ipykernel)",
   "language": "python",
   "name": "python3"
  },
  "language_info": {
   "codemirror_mode": {
    "name": "ipython",
    "version": 3
   },
   "file_extension": ".py",
   "mimetype": "text/x-python",
   "name": "python",
   "nbconvert_exporter": "python",
   "pygments_lexer": "ipython3",
   "version": "3.11.5"
  }
 },
 "nbformat": 4,
 "nbformat_minor": 5
}
