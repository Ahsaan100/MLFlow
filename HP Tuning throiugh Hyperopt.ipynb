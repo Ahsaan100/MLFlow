{
 "cells": [
  {
   "cell_type": "code",
   "execution_count": 1,
   "id": "d4ff79b7",
   "metadata": {},
   "outputs": [
    {
     "name": "stderr",
     "output_type": "stream",
     "text": [
      "C:\\Users\\hp\\anaconda3\\Lib\\site-packages\\pandas\\core\\arrays\\masked.py:60: UserWarning: Pandas requires version '1.3.6' or newer of 'bottleneck' (version '1.3.5' currently installed).\n",
      "  from pandas.core import (\n"
     ]
    }
   ],
   "source": [
    "import numpy as np\n",
    "from hyperopt import fmin, tpe, hp, Trials, STATUS_OK\n",
    "from sklearn.ensemble import RandomForestClassifier\n",
    "from sklearn.datasets import load_iris\n",
    "from sklearn.model_selection import cross_val_score\n",
    "import pandas as pd\n",
    "import mlflow\n",
    "from sklearn.preprocessing import StandardScaler, LabelEncoder\n",
    "from sklearn.model_selection import train_test_split\n",
    "from sklearn import set_config\n",
    "from sklearn.metrics import accuracy_score"
   ]
  },
  {
   "cell_type": "code",
   "execution_count": 2,
   "id": "110dc99b",
   "metadata": {},
   "outputs": [
    {
     "data": {
      "text/html": [
       "<div>\n",
       "<style scoped>\n",
       "    .dataframe tbody tr th:only-of-type {\n",
       "        vertical-align: middle;\n",
       "    }\n",
       "\n",
       "    .dataframe tbody tr th {\n",
       "        vertical-align: top;\n",
       "    }\n",
       "\n",
       "    .dataframe thead th {\n",
       "        text-align: right;\n",
       "    }\n",
       "</style>\n",
       "<table border=\"1\" class=\"dataframe\">\n",
       "  <thead>\n",
       "    <tr style=\"text-align: right;\">\n",
       "      <th></th>\n",
       "      <th>sepal length (cm)</th>\n",
       "      <th>sepal width (cm)</th>\n",
       "      <th>petal length (cm)</th>\n",
       "      <th>petal width (cm)</th>\n",
       "    </tr>\n",
       "  </thead>\n",
       "  <tbody>\n",
       "    <tr>\n",
       "      <th>0</th>\n",
       "      <td>5.1</td>\n",
       "      <td>3.5</td>\n",
       "      <td>1.4</td>\n",
       "      <td>0.2</td>\n",
       "    </tr>\n",
       "    <tr>\n",
       "      <th>1</th>\n",
       "      <td>4.9</td>\n",
       "      <td>3.0</td>\n",
       "      <td>1.4</td>\n",
       "      <td>0.2</td>\n",
       "    </tr>\n",
       "    <tr>\n",
       "      <th>2</th>\n",
       "      <td>4.7</td>\n",
       "      <td>3.2</td>\n",
       "      <td>1.3</td>\n",
       "      <td>0.2</td>\n",
       "    </tr>\n",
       "    <tr>\n",
       "      <th>3</th>\n",
       "      <td>4.6</td>\n",
       "      <td>3.1</td>\n",
       "      <td>1.5</td>\n",
       "      <td>0.2</td>\n",
       "    </tr>\n",
       "    <tr>\n",
       "      <th>4</th>\n",
       "      <td>5.0</td>\n",
       "      <td>3.6</td>\n",
       "      <td>1.4</td>\n",
       "      <td>0.2</td>\n",
       "    </tr>\n",
       "    <tr>\n",
       "      <th>...</th>\n",
       "      <td>...</td>\n",
       "      <td>...</td>\n",
       "      <td>...</td>\n",
       "      <td>...</td>\n",
       "    </tr>\n",
       "    <tr>\n",
       "      <th>145</th>\n",
       "      <td>6.7</td>\n",
       "      <td>3.0</td>\n",
       "      <td>5.2</td>\n",
       "      <td>2.3</td>\n",
       "    </tr>\n",
       "    <tr>\n",
       "      <th>146</th>\n",
       "      <td>6.3</td>\n",
       "      <td>2.5</td>\n",
       "      <td>5.0</td>\n",
       "      <td>1.9</td>\n",
       "    </tr>\n",
       "    <tr>\n",
       "      <th>147</th>\n",
       "      <td>6.5</td>\n",
       "      <td>3.0</td>\n",
       "      <td>5.2</td>\n",
       "      <td>2.0</td>\n",
       "    </tr>\n",
       "    <tr>\n",
       "      <th>148</th>\n",
       "      <td>6.2</td>\n",
       "      <td>3.4</td>\n",
       "      <td>5.4</td>\n",
       "      <td>2.3</td>\n",
       "    </tr>\n",
       "    <tr>\n",
       "      <th>149</th>\n",
       "      <td>5.9</td>\n",
       "      <td>3.0</td>\n",
       "      <td>5.1</td>\n",
       "      <td>1.8</td>\n",
       "    </tr>\n",
       "  </tbody>\n",
       "</table>\n",
       "<p>150 rows × 4 columns</p>\n",
       "</div>"
      ],
      "text/plain": [
       "     sepal length (cm)  sepal width (cm)  petal length (cm)  petal width (cm)\n",
       "0                  5.1               3.5                1.4               0.2\n",
       "1                  4.9               3.0                1.4               0.2\n",
       "2                  4.7               3.2                1.3               0.2\n",
       "3                  4.6               3.1                1.5               0.2\n",
       "4                  5.0               3.6                1.4               0.2\n",
       "..                 ...               ...                ...               ...\n",
       "145                6.7               3.0                5.2               2.3\n",
       "146                6.3               2.5                5.0               1.9\n",
       "147                6.5               3.0                5.2               2.0\n",
       "148                6.2               3.4                5.4               2.3\n",
       "149                5.9               3.0                5.1               1.8\n",
       "\n",
       "[150 rows x 4 columns]"
      ]
     },
     "execution_count": 2,
     "metadata": {},
     "output_type": "execute_result"
    }
   ],
   "source": [
    "# Load the dataset\n",
    "X,y = load_iris(return_X_y=True,as_frame=True)\n",
    "\n",
    "X"
   ]
  },
  {
   "cell_type": "code",
   "execution_count": 3,
   "id": "7b608f4a",
   "metadata": {},
   "outputs": [],
   "source": [
    "set_config(transform_output='pandas')"
   ]
  },
  {
   "cell_type": "code",
   "execution_count": 4,
   "id": "012123aa",
   "metadata": {},
   "outputs": [
    {
     "name": "stdout",
     "output_type": "stream",
     "text": [
      "The shape of the train data is (120, 4)\n"
     ]
    }
   ],
   "source": [
    "# train test split\n",
    "\n",
    "random_state = 42\n",
    "test_size = 0.2\n",
    "\n",
    "X_train, X_test, y_train, y_test = train_test_split(X,y,test_size=test_size,random_state=random_state)\n",
    "\n",
    "print('The shape of the train data is',X_train.shape)"
   ]
  },
  {
   "cell_type": "code",
   "execution_count": 5,
   "id": "6bdde331",
   "metadata": {},
   "outputs": [],
   "source": [
    "scaler = StandardScaler()\n",
    "\n",
    "label_encoder = LabelEncoder()\n",
    "\n",
    "# fit_transform on the train data\n",
    "X_train_trans = scaler.fit_transform(X_train)\n",
    "y_train = label_encoder.fit_transform(y_train)\n",
    "\n",
    "# transform on the test data\n",
    "X_test_trans = scaler.transform(X_test)\n",
    "y_test = label_encoder.transform(y_test)"
   ]
  },
  {
   "cell_type": "code",
   "execution_count": 6,
   "id": "76435259",
   "metadata": {},
   "outputs": [
    {
     "data": {
      "text/html": [
       "<div>\n",
       "<style scoped>\n",
       "    .dataframe tbody tr th:only-of-type {\n",
       "        vertical-align: middle;\n",
       "    }\n",
       "\n",
       "    .dataframe tbody tr th {\n",
       "        vertical-align: top;\n",
       "    }\n",
       "\n",
       "    .dataframe thead th {\n",
       "        text-align: right;\n",
       "    }\n",
       "</style>\n",
       "<table border=\"1\" class=\"dataframe\">\n",
       "  <thead>\n",
       "    <tr style=\"text-align: right;\">\n",
       "      <th></th>\n",
       "      <th>sepal length (cm)</th>\n",
       "      <th>sepal width (cm)</th>\n",
       "      <th>petal length (cm)</th>\n",
       "      <th>petal width (cm)</th>\n",
       "    </tr>\n",
       "  </thead>\n",
       "  <tbody>\n",
       "    <tr>\n",
       "      <th>22</th>\n",
       "      <td>-1.473937</td>\n",
       "      <td>1.203658</td>\n",
       "      <td>-1.562535</td>\n",
       "      <td>-1.312603</td>\n",
       "    </tr>\n",
       "    <tr>\n",
       "      <th>15</th>\n",
       "      <td>-0.133071</td>\n",
       "      <td>2.992376</td>\n",
       "      <td>-1.276006</td>\n",
       "      <td>-1.045633</td>\n",
       "    </tr>\n",
       "    <tr>\n",
       "      <th>65</th>\n",
       "      <td>1.085898</td>\n",
       "      <td>0.085709</td>\n",
       "      <td>0.385858</td>\n",
       "      <td>0.289218</td>\n",
       "    </tr>\n",
       "    <tr>\n",
       "      <th>11</th>\n",
       "      <td>-1.230143</td>\n",
       "      <td>0.756479</td>\n",
       "      <td>-1.218701</td>\n",
       "      <td>-1.312603</td>\n",
       "    </tr>\n",
       "    <tr>\n",
       "      <th>42</th>\n",
       "      <td>-1.717731</td>\n",
       "      <td>0.309299</td>\n",
       "      <td>-1.390618</td>\n",
       "      <td>-1.312603</td>\n",
       "    </tr>\n",
       "    <tr>\n",
       "      <th>...</th>\n",
       "      <td>...</td>\n",
       "      <td>...</td>\n",
       "      <td>...</td>\n",
       "      <td>...</td>\n",
       "    </tr>\n",
       "    <tr>\n",
       "      <th>71</th>\n",
       "      <td>0.354517</td>\n",
       "      <td>-0.585060</td>\n",
       "      <td>0.156636</td>\n",
       "      <td>0.155733</td>\n",
       "    </tr>\n",
       "    <tr>\n",
       "      <th>106</th>\n",
       "      <td>-1.108246</td>\n",
       "      <td>-1.255829</td>\n",
       "      <td>0.443164</td>\n",
       "      <td>0.689673</td>\n",
       "    </tr>\n",
       "    <tr>\n",
       "      <th>14</th>\n",
       "      <td>-0.011174</td>\n",
       "      <td>2.098017</td>\n",
       "      <td>-1.447923</td>\n",
       "      <td>-1.312603</td>\n",
       "    </tr>\n",
       "    <tr>\n",
       "      <th>92</th>\n",
       "      <td>-0.011174</td>\n",
       "      <td>-1.032239</td>\n",
       "      <td>0.156636</td>\n",
       "      <td>0.022248</td>\n",
       "    </tr>\n",
       "    <tr>\n",
       "      <th>102</th>\n",
       "      <td>1.573486</td>\n",
       "      <td>-0.137880</td>\n",
       "      <td>1.245443</td>\n",
       "      <td>1.223613</td>\n",
       "    </tr>\n",
       "  </tbody>\n",
       "</table>\n",
       "<p>120 rows × 4 columns</p>\n",
       "</div>"
      ],
      "text/plain": [
       "     sepal length (cm)  sepal width (cm)  petal length (cm)  petal width (cm)\n",
       "22           -1.473937          1.203658          -1.562535         -1.312603\n",
       "15           -0.133071          2.992376          -1.276006         -1.045633\n",
       "65            1.085898          0.085709           0.385858          0.289218\n",
       "11           -1.230143          0.756479          -1.218701         -1.312603\n",
       "42           -1.717731          0.309299          -1.390618         -1.312603\n",
       "..                 ...               ...                ...               ...\n",
       "71            0.354517         -0.585060           0.156636          0.155733\n",
       "106          -1.108246         -1.255829           0.443164          0.689673\n",
       "14           -0.011174          2.098017          -1.447923         -1.312603\n",
       "92           -0.011174         -1.032239           0.156636          0.022248\n",
       "102           1.573486         -0.137880           1.245443          1.223613\n",
       "\n",
       "[120 rows x 4 columns]"
      ]
     },
     "execution_count": 6,
     "metadata": {},
     "output_type": "execute_result"
    }
   ],
   "source": [
    "X_train_trans"
   ]
  },
  {
   "cell_type": "code",
   "execution_count": 7,
   "id": "6e38a52d",
   "metadata": {},
   "outputs": [],
   "source": [
    "# define the objective function\n",
    "\n",
    "def objective(params):\n",
    "    with mlflow.start_run(nested=True) as parent:\n",
    "        # log the current run parameters\n",
    "        mlflow.log_params(params)\n",
    "        # give the parameters as integers\n",
    "        max_depth = int(params['max_depth'])\n",
    "        n_estimators = int(params['n_estimators'])\n",
    "        # train the model\n",
    "        model = RandomForestClassifier(n_estimators=n_estimators,max_depth=max_depth)\n",
    "        model.fit(X_train_trans,y_train)\n",
    "        # get the accuracy score\n",
    "        y_pred = model.predict(X_test_trans)\n",
    "        # log the score\n",
    "        accuracy = accuracy_score(y_test,y_pred)\n",
    "        mlflow.log_metric('accuracy_score',accuracy)\n",
    "    return {'loss': -accuracy, 'status': STATUS_OK}"
   ]
  },
  {
   "cell_type": "code",
   "execution_count": 8,
   "id": "dbcf7c26",
   "metadata": {},
   "outputs": [],
   "source": [
    "# define the search space\n",
    "\n",
    "space = {\n",
    "    'n_estimators': hp.quniform('n_estimators', 50, 200, 10),\n",
    "    'max_depth': hp.quniform('max_depth', 5, 20, 1),\n",
    "    'criterion': hp.choice('criterion',['gini','entropy'])\n",
    "\n",
    "}"
   ]
  },
  {
   "cell_type": "code",
   "execution_count": 9,
   "id": "c9265ddb",
   "metadata": {},
   "outputs": [
    {
     "name": "stderr",
     "output_type": "stream",
     "text": [
      "2024/10/30 19:19:03 INFO mlflow.tracking.fluent: Experiment with name 'HP Tuning Hyperopt' does not exist. Creating a new experiment.\n"
     ]
    },
    {
     "name": "stdout",
     "output_type": "stream",
     "text": [
      "\r",
      "  0%|                                                                           | 0/50 [00:00<?, ?trial/s, best loss=?]"
     ]
    },
    {
     "name": "stderr",
     "output_type": "stream",
     "text": [
      "2024/10/30 19:19:04 INFO mlflow.tracking._tracking_service.client: 🏃 View run brawny-frog-267 at: http://127.0.0.1:8080/#/experiments/322195731213365606/runs/4b02535a6c4f4faa9b04ec48dfe0eadf.\n",
      "\n",
      "2024/10/30 19:19:04 INFO mlflow.tracking._tracking_service.client: 🧪 View experiment at: http://127.0.0.1:8080/#/experiments/322195731213365606.\n",
      "\n"
     ]
    },
    {
     "name": "stdout",
     "output_type": "stream",
     "text": [
      "\r",
      "  2%|█▎                                                             | 1/50 [00:00<00:33,  1.46trial/s, best loss: -1.0]"
     ]
    },
    {
     "name": "stderr",
     "output_type": "stream",
     "text": [
      "2024/10/30 19:19:06 INFO mlflow.tracking._tracking_service.client: 🏃 View run unleashed-trout-303 at: http://127.0.0.1:8080/#/experiments/322195731213365606/runs/8c490f21294f4eb2953f038d0f35e4c3.\n",
      "\n",
      "2024/10/30 19:19:06 INFO mlflow.tracking._tracking_service.client: 🧪 View experiment at: http://127.0.0.1:8080/#/experiments/322195731213365606.\n",
      "\n"
     ]
    },
    {
     "name": "stdout",
     "output_type": "stream",
     "text": [
      "\r",
      "  4%|██▌                                                            | 2/50 [00:02<00:51,  1.06s/trial, best loss: -1.0]"
     ]
    },
    {
     "name": "stderr",
     "output_type": "stream",
     "text": [
      "2024/10/30 19:19:07 INFO mlflow.tracking._tracking_service.client: 🏃 View run chill-moose-268 at: http://127.0.0.1:8080/#/experiments/322195731213365606/runs/366ce5d29f1147dc959535070fdd1ffe.\n",
      "\n",
      "2024/10/30 19:19:07 INFO mlflow.tracking._tracking_service.client: 🧪 View experiment at: http://127.0.0.1:8080/#/experiments/322195731213365606.\n",
      "\n"
     ]
    },
    {
     "name": "stdout",
     "output_type": "stream",
     "text": [
      "\r",
      "  6%|███▊                                                           | 3/50 [00:02<00:45,  1.03trial/s, best loss: -1.0]"
     ]
    },
    {
     "name": "stderr",
     "output_type": "stream",
     "text": [
      "2024/10/30 19:19:08 INFO mlflow.tracking._tracking_service.client: 🏃 View run rebellious-shoat-820 at: http://127.0.0.1:8080/#/experiments/322195731213365606/runs/5ec45fa88a7a4113a1fd2423dcd2cfd6.\n",
      "\n",
      "2024/10/30 19:19:08 INFO mlflow.tracking._tracking_service.client: 🧪 View experiment at: http://127.0.0.1:8080/#/experiments/322195731213365606.\n",
      "\n"
     ]
    },
    {
     "name": "stdout",
     "output_type": "stream",
     "text": [
      "\r",
      "  8%|█████                                                          | 4/50 [00:04<00:47,  1.03s/trial, best loss: -1.0]"
     ]
    },
    {
     "name": "stderr",
     "output_type": "stream",
     "text": [
      "2024/10/30 19:19:08 INFO mlflow.tracking._tracking_service.client: 🏃 View run indecisive-mare-408 at: http://127.0.0.1:8080/#/experiments/322195731213365606/runs/d185a5e7e9e14f17a0a6c76c028b663a.\n",
      "\n",
      "2024/10/30 19:19:08 INFO mlflow.tracking._tracking_service.client: 🧪 View experiment at: http://127.0.0.1:8080/#/experiments/322195731213365606.\n",
      "\n"
     ]
    },
    {
     "name": "stdout",
     "output_type": "stream",
     "text": [
      "\r",
      " 10%|██████▎                                                        | 5/50 [00:04<00:40,  1.10trial/s, best loss: -1.0]"
     ]
    },
    {
     "name": "stderr",
     "output_type": "stream",
     "text": [
      "2024/10/30 19:19:09 INFO mlflow.tracking._tracking_service.client: 🏃 View run fun-snail-576 at: http://127.0.0.1:8080/#/experiments/322195731213365606/runs/8b578793603c4c91b88a67e4d18ec128.\n",
      "\n",
      "2024/10/30 19:19:09 INFO mlflow.tracking._tracking_service.client: 🧪 View experiment at: http://127.0.0.1:8080/#/experiments/322195731213365606.\n",
      "\n"
     ]
    },
    {
     "name": "stdout",
     "output_type": "stream",
     "text": [
      "\r",
      " 12%|███████▌                                                       | 6/50 [00:05<00:36,  1.22trial/s, best loss: -1.0]"
     ]
    },
    {
     "name": "stderr",
     "output_type": "stream",
     "text": [
      "2024/10/30 19:19:10 INFO mlflow.tracking._tracking_service.client: 🏃 View run melodic-lamb-555 at: http://127.0.0.1:8080/#/experiments/322195731213365606/runs/16a054dd39e04157a1ad2650d10db394.\n",
      "\n",
      "2024/10/30 19:19:10 INFO mlflow.tracking._tracking_service.client: 🧪 View experiment at: http://127.0.0.1:8080/#/experiments/322195731213365606.\n",
      "\n"
     ]
    },
    {
     "name": "stdout",
     "output_type": "stream",
     "text": [
      "\r",
      " 14%|████████▊                                                      | 7/50 [00:06<00:34,  1.24trial/s, best loss: -1.0]"
     ]
    },
    {
     "name": "stderr",
     "output_type": "stream",
     "text": [
      "2024/10/30 19:19:11 INFO mlflow.tracking._tracking_service.client: 🏃 View run nebulous-dog-287 at: http://127.0.0.1:8080/#/experiments/322195731213365606/runs/412dfdd54d1a4052a1f26f5f65dc1bd5.\n",
      "\n",
      "2024/10/30 19:19:11 INFO mlflow.tracking._tracking_service.client: 🧪 View experiment at: http://127.0.0.1:8080/#/experiments/322195731213365606.\n",
      "\n"
     ]
    },
    {
     "name": "stdout",
     "output_type": "stream",
     "text": [
      "\r",
      " 16%|██████████                                                     | 8/50 [00:06<00:34,  1.21trial/s, best loss: -1.0]"
     ]
    },
    {
     "name": "stderr",
     "output_type": "stream",
     "text": [
      "2024/10/30 19:19:12 INFO mlflow.tracking._tracking_service.client: 🏃 View run nimble-newt-131 at: http://127.0.0.1:8080/#/experiments/322195731213365606/runs/cfca7d8b375944668d9f1aad5bce6ff3.\n",
      "\n",
      "2024/10/30 19:19:12 INFO mlflow.tracking._tracking_service.client: 🧪 View experiment at: http://127.0.0.1:8080/#/experiments/322195731213365606.\n",
      "\n"
     ]
    },
    {
     "name": "stdout",
     "output_type": "stream",
     "text": [
      "\r",
      " 18%|███████████▎                                                   | 9/50 [00:08<00:37,  1.09trial/s, best loss: -1.0]"
     ]
    },
    {
     "name": "stderr",
     "output_type": "stream",
     "text": [
      "2024/10/30 19:19:13 INFO mlflow.tracking._tracking_service.client: 🏃 View run selective-slug-833 at: http://127.0.0.1:8080/#/experiments/322195731213365606/runs/0c3710a7b85246dbb3d60b0907c51ec9.\n",
      "\n",
      "2024/10/30 19:19:13 INFO mlflow.tracking._tracking_service.client: 🧪 View experiment at: http://127.0.0.1:8080/#/experiments/322195731213365606.\n",
      "\n"
     ]
    },
    {
     "name": "stdout",
     "output_type": "stream",
     "text": [
      "\r",
      " 20%|████████████▍                                                 | 10/50 [00:09<00:38,  1.04trial/s, best loss: -1.0]"
     ]
    },
    {
     "name": "stderr",
     "output_type": "stream",
     "text": [
      "2024/10/30 19:19:13 INFO mlflow.tracking._tracking_service.client: 🏃 View run casual-pig-992 at: http://127.0.0.1:8080/#/experiments/322195731213365606/runs/872100341be04539bfc7a4c34c1b12d3.\n",
      "\n",
      "2024/10/30 19:19:13 INFO mlflow.tracking._tracking_service.client: 🧪 View experiment at: http://127.0.0.1:8080/#/experiments/322195731213365606.\n",
      "\n"
     ]
    },
    {
     "name": "stdout",
     "output_type": "stream",
     "text": [
      "\r",
      " 22%|█████████████▋                                                | 11/50 [00:09<00:33,  1.18trial/s, best loss: -1.0]"
     ]
    },
    {
     "name": "stderr",
     "output_type": "stream",
     "text": [
      "2024/10/30 19:19:14 INFO mlflow.tracking._tracking_service.client: 🏃 View run fearless-smelt-91 at: http://127.0.0.1:8080/#/experiments/322195731213365606/runs/089dbc44bf7b44f98ce6083a2038b381.\n",
      "\n",
      "2024/10/30 19:19:14 INFO mlflow.tracking._tracking_service.client: 🧪 View experiment at: http://127.0.0.1:8080/#/experiments/322195731213365606.\n",
      "\n"
     ]
    },
    {
     "name": "stdout",
     "output_type": "stream",
     "text": [
      "\r",
      " 24%|██████████████▉                                               | 12/50 [00:10<00:32,  1.17trial/s, best loss: -1.0]"
     ]
    },
    {
     "name": "stderr",
     "output_type": "stream",
     "text": [
      "2024/10/30 19:19:15 INFO mlflow.tracking._tracking_service.client: 🏃 View run intrigued-quail-579 at: http://127.0.0.1:8080/#/experiments/322195731213365606/runs/2190ee05a862480f86d3aa3435db6399.\n",
      "\n",
      "2024/10/30 19:19:15 INFO mlflow.tracking._tracking_service.client: 🧪 View experiment at: http://127.0.0.1:8080/#/experiments/322195731213365606.\n",
      "\n"
     ]
    },
    {
     "name": "stdout",
     "output_type": "stream",
     "text": [
      "\r",
      " 26%|████████████████                                              | 13/50 [00:11<00:28,  1.30trial/s, best loss: -1.0]"
     ]
    },
    {
     "name": "stderr",
     "output_type": "stream",
     "text": [
      "2024/10/30 19:19:16 INFO mlflow.tracking._tracking_service.client: 🏃 View run nosy-asp-102 at: http://127.0.0.1:8080/#/experiments/322195731213365606/runs/214f67fdb8fd4ec28776429f885c5835.\n",
      "\n",
      "2024/10/30 19:19:16 INFO mlflow.tracking._tracking_service.client: 🧪 View experiment at: http://127.0.0.1:8080/#/experiments/322195731213365606.\n",
      "\n"
     ]
    },
    {
     "name": "stdout",
     "output_type": "stream",
     "text": [
      "\r",
      " 28%|█████████████████▎                                            | 14/50 [00:11<00:26,  1.34trial/s, best loss: -1.0]"
     ]
    },
    {
     "name": "stderr",
     "output_type": "stream",
     "text": [
      "2024/10/30 19:19:17 INFO mlflow.tracking._tracking_service.client: 🏃 View run sassy-zebra-277 at: http://127.0.0.1:8080/#/experiments/322195731213365606/runs/eb9c573d729a4bdca777f731c943ab1a.\n",
      "\n",
      "2024/10/30 19:19:17 INFO mlflow.tracking._tracking_service.client: 🧪 View experiment at: http://127.0.0.1:8080/#/experiments/322195731213365606.\n",
      "\n"
     ]
    },
    {
     "name": "stdout",
     "output_type": "stream",
     "text": [
      "\r",
      " 30%|██████████████████▌                                           | 15/50 [00:13<00:30,  1.14trial/s, best loss: -1.0]"
     ]
    },
    {
     "name": "stderr",
     "output_type": "stream",
     "text": [
      "2024/10/30 19:19:18 INFO mlflow.tracking._tracking_service.client: 🏃 View run grandiose-snail-484 at: http://127.0.0.1:8080/#/experiments/322195731213365606/runs/b827bda231bb4f738378fd2772394c42.\n",
      "\n",
      "2024/10/30 19:19:18 INFO mlflow.tracking._tracking_service.client: 🧪 View experiment at: http://127.0.0.1:8080/#/experiments/322195731213365606.\n",
      "\n"
     ]
    },
    {
     "name": "stdout",
     "output_type": "stream",
     "text": [
      "\r",
      " 32%|███████████████████▊                                          | 16/50 [00:13<00:29,  1.16trial/s, best loss: -1.0]"
     ]
    },
    {
     "name": "stderr",
     "output_type": "stream",
     "text": [
      "2024/10/30 19:19:19 INFO mlflow.tracking._tracking_service.client: 🏃 View run dazzling-carp-885 at: http://127.0.0.1:8080/#/experiments/322195731213365606/runs/02288efeefe34cf6bc76ba750164aecd.\n",
      "\n",
      "2024/10/30 19:19:19 INFO mlflow.tracking._tracking_service.client: 🧪 View experiment at: http://127.0.0.1:8080/#/experiments/322195731213365606.\n",
      "\n"
     ]
    },
    {
     "name": "stdout",
     "output_type": "stream",
     "text": [
      "\r",
      " 34%|█████████████████████                                         | 17/50 [00:14<00:29,  1.12trial/s, best loss: -1.0]"
     ]
    },
    {
     "name": "stderr",
     "output_type": "stream",
     "text": [
      "2024/10/30 19:19:19 INFO mlflow.tracking._tracking_service.client: 🏃 View run rare-bee-428 at: http://127.0.0.1:8080/#/experiments/322195731213365606/runs/59d06a88691f4dbf85a94d66eae9f5b4.\n",
      "\n",
      "2024/10/30 19:19:19 INFO mlflow.tracking._tracking_service.client: 🧪 View experiment at: http://127.0.0.1:8080/#/experiments/322195731213365606.\n",
      "\n"
     ]
    },
    {
     "name": "stdout",
     "output_type": "stream",
     "text": [
      "\r",
      " 36%|██████████████████████▎                                       | 18/50 [00:15<00:27,  1.14trial/s, best loss: -1.0]"
     ]
    },
    {
     "name": "stderr",
     "output_type": "stream",
     "text": [
      "2024/10/30 19:19:20 INFO mlflow.tracking._tracking_service.client: 🏃 View run unruly-sponge-875 at: http://127.0.0.1:8080/#/experiments/322195731213365606/runs/bfc469ecb5d84c878495349c8d2d34b2.\n",
      "\n",
      "2024/10/30 19:19:20 INFO mlflow.tracking._tracking_service.client: 🧪 View experiment at: http://127.0.0.1:8080/#/experiments/322195731213365606.\n",
      "\n"
     ]
    },
    {
     "name": "stdout",
     "output_type": "stream",
     "text": [
      "\r",
      " 38%|███████████████████████▌                                      | 19/50 [00:16<00:27,  1.13trial/s, best loss: -1.0]"
     ]
    },
    {
     "name": "stderr",
     "output_type": "stream",
     "text": [
      "2024/10/30 19:19:21 INFO mlflow.tracking._tracking_service.client: 🏃 View run polite-cow-880 at: http://127.0.0.1:8080/#/experiments/322195731213365606/runs/21fbe86f22d742968077a6add90c60d6.\n",
      "\n",
      "2024/10/30 19:19:21 INFO mlflow.tracking._tracking_service.client: 🧪 View experiment at: http://127.0.0.1:8080/#/experiments/322195731213365606.\n",
      "\n"
     ]
    },
    {
     "name": "stdout",
     "output_type": "stream",
     "text": [
      "\r",
      " 40%|████████████████████████▊                                     | 20/50 [00:17<00:25,  1.20trial/s, best loss: -1.0]"
     ]
    },
    {
     "name": "stderr",
     "output_type": "stream",
     "text": [
      "2024/10/30 19:19:22 INFO mlflow.tracking._tracking_service.client: 🏃 View run receptive-shoat-817 at: http://127.0.0.1:8080/#/experiments/322195731213365606/runs/13d16d80673645a2a12af8ee81f4cf4f.\n",
      "\n",
      "2024/10/30 19:19:22 INFO mlflow.tracking._tracking_service.client: 🧪 View experiment at: http://127.0.0.1:8080/#/experiments/322195731213365606.\n",
      "\n"
     ]
    },
    {
     "name": "stdout",
     "output_type": "stream",
     "text": [
      "\r",
      " 42%|██████████████████████████                                    | 21/50 [00:18<00:26,  1.08trial/s, best loss: -1.0]"
     ]
    },
    {
     "name": "stderr",
     "output_type": "stream",
     "text": [
      "2024/10/30 19:19:23 INFO mlflow.tracking._tracking_service.client: 🏃 View run nebulous-hen-906 at: http://127.0.0.1:8080/#/experiments/322195731213365606/runs/63c4eaaafc2943f0ad61d1e616986767.\n",
      "\n",
      "2024/10/30 19:19:23 INFO mlflow.tracking._tracking_service.client: 🧪 View experiment at: http://127.0.0.1:8080/#/experiments/322195731213365606.\n",
      "\n"
     ]
    },
    {
     "name": "stdout",
     "output_type": "stream",
     "text": [
      "\r",
      " 44%|███████████████████████████▎                                  | 22/50 [00:19<00:26,  1.07trial/s, best loss: -1.0]"
     ]
    },
    {
     "name": "stderr",
     "output_type": "stream",
     "text": [
      "2024/10/30 19:19:24 INFO mlflow.tracking._tracking_service.client: 🏃 View run enthused-chimp-890 at: http://127.0.0.1:8080/#/experiments/322195731213365606/runs/821084a359744a00a6cbd6e37f5cbff5.\n",
      "\n",
      "2024/10/30 19:19:24 INFO mlflow.tracking._tracking_service.client: 🧪 View experiment at: http://127.0.0.1:8080/#/experiments/322195731213365606.\n",
      "\n"
     ]
    },
    {
     "name": "stdout",
     "output_type": "stream",
     "text": [
      "\r",
      " 46%|████████████████████████████▌                                 | 23/50 [00:20<00:24,  1.10trial/s, best loss: -1.0]"
     ]
    },
    {
     "name": "stderr",
     "output_type": "stream",
     "text": [
      "2024/10/30 19:19:25 INFO mlflow.tracking._tracking_service.client: 🏃 View run indecisive-fish-275 at: http://127.0.0.1:8080/#/experiments/322195731213365606/runs/5d6ad97406a244c88fa03030484181c1.\n",
      "\n",
      "2024/10/30 19:19:25 INFO mlflow.tracking._tracking_service.client: 🧪 View experiment at: http://127.0.0.1:8080/#/experiments/322195731213365606.\n",
      "\n"
     ]
    },
    {
     "name": "stdout",
     "output_type": "stream",
     "text": [
      "\r",
      " 48%|█████████████████████████████▊                                | 24/50 [00:21<00:24,  1.06trial/s, best loss: -1.0]"
     ]
    },
    {
     "name": "stderr",
     "output_type": "stream",
     "text": [
      "2024/10/30 19:19:26 INFO mlflow.tracking._tracking_service.client: 🏃 View run rare-deer-133 at: http://127.0.0.1:8080/#/experiments/322195731213365606/runs/e1265bebbe2748b8a73f2eda652a7529.\n",
      "\n",
      "2024/10/30 19:19:26 INFO mlflow.tracking._tracking_service.client: 🧪 View experiment at: http://127.0.0.1:8080/#/experiments/322195731213365606.\n",
      "\n"
     ]
    },
    {
     "name": "stdout",
     "output_type": "stream",
     "text": [
      "\r",
      " 50%|███████████████████████████████                               | 25/50 [00:22<00:23,  1.07trial/s, best loss: -1.0]"
     ]
    },
    {
     "name": "stderr",
     "output_type": "stream",
     "text": [
      "2024/10/30 19:19:27 INFO mlflow.tracking._tracking_service.client: 🏃 View run awesome-skunk-405 at: http://127.0.0.1:8080/#/experiments/322195731213365606/runs/11f329058c1a4bbb9304f799055b641c.\n",
      "\n",
      "2024/10/30 19:19:27 INFO mlflow.tracking._tracking_service.client: 🧪 View experiment at: http://127.0.0.1:8080/#/experiments/322195731213365606.\n",
      "\n"
     ]
    },
    {
     "name": "stdout",
     "output_type": "stream",
     "text": [
      "\r",
      " 52%|████████████████████████████████▏                             | 26/50 [00:22<00:20,  1.18trial/s, best loss: -1.0]"
     ]
    },
    {
     "name": "stderr",
     "output_type": "stream",
     "text": [
      "2024/10/30 19:19:28 INFO mlflow.tracking._tracking_service.client: 🏃 View run nebulous-mule-105 at: http://127.0.0.1:8080/#/experiments/322195731213365606/runs/952b0712f448431b9327328aee356eba.\n",
      "\n",
      "2024/10/30 19:19:28 INFO mlflow.tracking._tracking_service.client: 🧪 View experiment at: http://127.0.0.1:8080/#/experiments/322195731213365606.\n",
      "\n"
     ]
    },
    {
     "name": "stdout",
     "output_type": "stream",
     "text": [
      "\r",
      " 54%|█████████████████████████████████▍                            | 27/50 [00:24<00:22,  1.03trial/s, best loss: -1.0]"
     ]
    },
    {
     "name": "stderr",
     "output_type": "stream",
     "text": [
      "2024/10/30 19:19:29 INFO mlflow.tracking._tracking_service.client: 🏃 View run treasured-pug-483 at: http://127.0.0.1:8080/#/experiments/322195731213365606/runs/bedd5d617fc54713b0b56b768d579e25.\n",
      "\n",
      "2024/10/30 19:19:29 INFO mlflow.tracking._tracking_service.client: 🧪 View experiment at: http://127.0.0.1:8080/#/experiments/322195731213365606.\n",
      "\n"
     ]
    },
    {
     "name": "stdout",
     "output_type": "stream",
     "text": [
      "\r",
      " 56%|██████████████████████████████████▋                           | 28/50 [00:25<00:23,  1.08s/trial, best loss: -1.0]"
     ]
    },
    {
     "name": "stderr",
     "output_type": "stream",
     "text": [
      "2024/10/30 19:19:30 INFO mlflow.tracking._tracking_service.client: 🏃 View run worried-penguin-57 at: http://127.0.0.1:8080/#/experiments/322195731213365606/runs/223918f5228d49e7aaa35ef2fd30c4c5.\n",
      "\n",
      "2024/10/30 19:19:30 INFO mlflow.tracking._tracking_service.client: 🧪 View experiment at: http://127.0.0.1:8080/#/experiments/322195731213365606.\n",
      "\n"
     ]
    },
    {
     "name": "stdout",
     "output_type": "stream",
     "text": [
      "\r",
      " 58%|███████████████████████████████████▉                          | 29/50 [00:26<00:20,  1.01trial/s, best loss: -1.0]"
     ]
    },
    {
     "name": "stderr",
     "output_type": "stream",
     "text": [
      "2024/10/30 19:19:31 INFO mlflow.tracking._tracking_service.client: 🏃 View run unique-fox-533 at: http://127.0.0.1:8080/#/experiments/322195731213365606/runs/5f04617b18c1492ba9ae6eb20f777b20.\n",
      "\n",
      "2024/10/30 19:19:31 INFO mlflow.tracking._tracking_service.client: 🧪 View experiment at: http://127.0.0.1:8080/#/experiments/322195731213365606.\n",
      "\n"
     ]
    },
    {
     "name": "stdout",
     "output_type": "stream",
     "text": [
      "\r",
      " 60%|█████████████████████████████████████▏                        | 30/50 [00:27<00:20,  1.04s/trial, best loss: -1.0]"
     ]
    },
    {
     "name": "stderr",
     "output_type": "stream",
     "text": [
      "2024/10/30 19:19:32 INFO mlflow.tracking._tracking_service.client: 🏃 View run adorable-crane-522 at: http://127.0.0.1:8080/#/experiments/322195731213365606/runs/cdbbc0b318e04e33b9b0a9acf1244377.\n",
      "\n",
      "2024/10/30 19:19:32 INFO mlflow.tracking._tracking_service.client: 🧪 View experiment at: http://127.0.0.1:8080/#/experiments/322195731213365606.\n",
      "\n"
     ]
    },
    {
     "name": "stdout",
     "output_type": "stream",
     "text": [
      "\r",
      " 62%|██████████████████████████████████████▍                       | 31/50 [00:28<00:20,  1.06s/trial, best loss: -1.0]"
     ]
    },
    {
     "name": "stderr",
     "output_type": "stream",
     "text": [
      "2024/10/30 19:19:33 INFO mlflow.tracking._tracking_service.client: 🏃 View run resilient-crow-655 at: http://127.0.0.1:8080/#/experiments/322195731213365606/runs/cb419c07a34f4329a2588712dd2d14c0.\n",
      "\n",
      "2024/10/30 19:19:33 INFO mlflow.tracking._tracking_service.client: 🧪 View experiment at: http://127.0.0.1:8080/#/experiments/322195731213365606.\n",
      "\n"
     ]
    },
    {
     "name": "stdout",
     "output_type": "stream",
     "text": [
      "\r",
      " 64%|███████████████████████████████████████▋                      | 32/50 [00:29<00:18,  1.01s/trial, best loss: -1.0]"
     ]
    },
    {
     "name": "stderr",
     "output_type": "stream",
     "text": [
      "2024/10/30 19:19:34 INFO mlflow.tracking._tracking_service.client: 🏃 View run amazing-skink-431 at: http://127.0.0.1:8080/#/experiments/322195731213365606/runs/7cb8001b67fb4db391b47bd3531f256d.\n",
      "\n",
      "2024/10/30 19:19:34 INFO mlflow.tracking._tracking_service.client: 🧪 View experiment at: http://127.0.0.1:8080/#/experiments/322195731213365606.\n",
      "\n"
     ]
    },
    {
     "name": "stdout",
     "output_type": "stream",
     "text": [
      "\r",
      " 66%|████████████████████████████████████████▉                     | 33/50 [00:30<00:17,  1.05s/trial, best loss: -1.0]"
     ]
    },
    {
     "name": "stderr",
     "output_type": "stream",
     "text": [
      "2024/10/30 19:19:35 INFO mlflow.tracking._tracking_service.client: 🏃 View run legendary-panda-891 at: http://127.0.0.1:8080/#/experiments/322195731213365606/runs/aabaf70a96fe4b17842ba913ee1d6f25.\n",
      "\n",
      "2024/10/30 19:19:35 INFO mlflow.tracking._tracking_service.client: 🧪 View experiment at: http://127.0.0.1:8080/#/experiments/322195731213365606.\n",
      "\n"
     ]
    },
    {
     "name": "stdout",
     "output_type": "stream",
     "text": [
      "\r",
      " 68%|██████████████████████████████████████████▏                   | 34/50 [00:31<00:15,  1.04trial/s, best loss: -1.0]"
     ]
    },
    {
     "name": "stderr",
     "output_type": "stream",
     "text": [
      "2024/10/30 19:19:36 INFO mlflow.tracking._tracking_service.client: 🏃 View run victorious-pug-743 at: http://127.0.0.1:8080/#/experiments/322195731213365606/runs/631fd24b103c4ab5b290c70af7d7b61d.\n",
      "\n",
      "2024/10/30 19:19:36 INFO mlflow.tracking._tracking_service.client: 🧪 View experiment at: http://127.0.0.1:8080/#/experiments/322195731213365606.\n",
      "\n"
     ]
    },
    {
     "name": "stdout",
     "output_type": "stream",
     "text": [
      "\r",
      " 70%|███████████████████████████████████████████▍                  | 35/50 [00:32<00:13,  1.10trial/s, best loss: -1.0]"
     ]
    },
    {
     "name": "stderr",
     "output_type": "stream",
     "text": [
      "2024/10/30 19:19:37 INFO mlflow.tracking._tracking_service.client: 🏃 View run lyrical-shrew-991 at: http://127.0.0.1:8080/#/experiments/322195731213365606/runs/f6b9fa23e0294b75bdddc186cd404382.\n",
      "\n",
      "2024/10/30 19:19:37 INFO mlflow.tracking._tracking_service.client: 🧪 View experiment at: http://127.0.0.1:8080/#/experiments/322195731213365606.\n",
      "\n"
     ]
    },
    {
     "name": "stdout",
     "output_type": "stream",
     "text": [
      "\r",
      " 72%|████████████████████████████████████████████▋                 | 36/50 [00:32<00:12,  1.14trial/s, best loss: -1.0]"
     ]
    },
    {
     "name": "stderr",
     "output_type": "stream",
     "text": [
      "2024/10/30 19:19:38 INFO mlflow.tracking._tracking_service.client: 🏃 View run traveling-wasp-981 at: http://127.0.0.1:8080/#/experiments/322195731213365606/runs/6227a150319f44a5a50f7980d32ad421.\n",
      "\n",
      "2024/10/30 19:19:38 INFO mlflow.tracking._tracking_service.client: 🧪 View experiment at: http://127.0.0.1:8080/#/experiments/322195731213365606.\n",
      "\n"
     ]
    },
    {
     "name": "stdout",
     "output_type": "stream",
     "text": [
      "\r",
      " 74%|█████████████████████████████████████████████▉                | 37/50 [00:34<00:12,  1.01trial/s, best loss: -1.0]"
     ]
    },
    {
     "name": "stderr",
     "output_type": "stream",
     "text": [
      "2024/10/30 19:19:39 INFO mlflow.tracking._tracking_service.client: 🏃 View run resilient-wolf-777 at: http://127.0.0.1:8080/#/experiments/322195731213365606/runs/d4579eefcc4a4dfe86d3b4ffd687804d.\n",
      "\n",
      "2024/10/30 19:19:39 INFO mlflow.tracking._tracking_service.client: 🧪 View experiment at: http://127.0.0.1:8080/#/experiments/322195731213365606.\n",
      "\n"
     ]
    },
    {
     "name": "stdout",
     "output_type": "stream",
     "text": [
      "\r",
      " 76%|███████████████████████████████████████████████               | 38/50 [00:35<00:12,  1.01s/trial, best loss: -1.0]"
     ]
    },
    {
     "name": "stderr",
     "output_type": "stream",
     "text": [
      "2024/10/30 19:19:40 INFO mlflow.tracking._tracking_service.client: 🏃 View run lyrical-crane-953 at: http://127.0.0.1:8080/#/experiments/322195731213365606/runs/3eae6f559daf4297adeb73438a4a3cb3.\n",
      "\n",
      "2024/10/30 19:19:40 INFO mlflow.tracking._tracking_service.client: 🧪 View experiment at: http://127.0.0.1:8080/#/experiments/322195731213365606.\n",
      "\n"
     ]
    },
    {
     "name": "stdout",
     "output_type": "stream",
     "text": [
      "\r",
      " 78%|████████████████████████████████████████████████▎             | 39/50 [00:36<00:11,  1.07s/trial, best loss: -1.0]"
     ]
    },
    {
     "name": "stderr",
     "output_type": "stream",
     "text": [
      "2024/10/30 19:19:41 INFO mlflow.tracking._tracking_service.client: 🏃 View run bald-hound-735 at: http://127.0.0.1:8080/#/experiments/322195731213365606/runs/3770212c248c489daae2925bf9361c0b.\n",
      "\n",
      "2024/10/30 19:19:41 INFO mlflow.tracking._tracking_service.client: 🧪 View experiment at: http://127.0.0.1:8080/#/experiments/322195731213365606.\n",
      "\n"
     ]
    },
    {
     "name": "stdout",
     "output_type": "stream",
     "text": [
      "\r",
      " 80%|█████████████████████████████████████████████████▌            | 40/50 [00:37<00:10,  1.08s/trial, best loss: -1.0]"
     ]
    },
    {
     "name": "stderr",
     "output_type": "stream",
     "text": [
      "2024/10/30 19:19:42 INFO mlflow.tracking._tracking_service.client: 🏃 View run able-mouse-952 at: http://127.0.0.1:8080/#/experiments/322195731213365606/runs/bc948041fbb34c999872158fdd1162b5.\n",
      "\n",
      "2024/10/30 19:19:42 INFO mlflow.tracking._tracking_service.client: 🧪 View experiment at: http://127.0.0.1:8080/#/experiments/322195731213365606.\n",
      "\n"
     ]
    },
    {
     "name": "stdout",
     "output_type": "stream",
     "text": [
      "\r",
      " 82%|██████████████████████████████████████████████████▊           | 41/50 [00:38<00:08,  1.01trial/s, best loss: -1.0]"
     ]
    },
    {
     "name": "stderr",
     "output_type": "stream",
     "text": [
      "2024/10/30 19:19:43 INFO mlflow.tracking._tracking_service.client: 🏃 View run painted-turtle-622 at: http://127.0.0.1:8080/#/experiments/322195731213365606/runs/3e59a26722e541519a50a7f8de04e98a.\n",
      "\n",
      "2024/10/30 19:19:43 INFO mlflow.tracking._tracking_service.client: 🧪 View experiment at: http://127.0.0.1:8080/#/experiments/322195731213365606.\n",
      "\n"
     ]
    },
    {
     "name": "stdout",
     "output_type": "stream",
     "text": [
      "\r",
      " 84%|████████████████████████████████████████████████████          | 42/50 [00:38<00:07,  1.12trial/s, best loss: -1.0]"
     ]
    },
    {
     "name": "stderr",
     "output_type": "stream",
     "text": [
      "2024/10/30 19:19:44 INFO mlflow.tracking._tracking_service.client: 🏃 View run carefree-ram-856 at: http://127.0.0.1:8080/#/experiments/322195731213365606/runs/a9c8272018a24313aea6df0d753d4e29.\n",
      "\n",
      "2024/10/30 19:19:44 INFO mlflow.tracking._tracking_service.client: 🧪 View experiment at: http://127.0.0.1:8080/#/experiments/322195731213365606.\n",
      "\n"
     ]
    },
    {
     "name": "stdout",
     "output_type": "stream",
     "text": [
      "\r",
      " 86%|█████████████████████████████████████████████████████▎        | 43/50 [00:40<00:06,  1.05trial/s, best loss: -1.0]"
     ]
    },
    {
     "name": "stderr",
     "output_type": "stream",
     "text": [
      "2024/10/30 19:19:45 INFO mlflow.tracking._tracking_service.client: 🏃 View run honorable-shad-867 at: http://127.0.0.1:8080/#/experiments/322195731213365606/runs/db8c6b8d850a43c69974f76b64ccd323.\n",
      "\n",
      "2024/10/30 19:19:45 INFO mlflow.tracking._tracking_service.client: 🧪 View experiment at: http://127.0.0.1:8080/#/experiments/322195731213365606.\n",
      "\n"
     ]
    },
    {
     "name": "stdout",
     "output_type": "stream",
     "text": [
      "\r",
      " 88%|██████████████████████████████████████████████████████▌       | 44/50 [00:41<00:05,  1.04trial/s, best loss: -1.0]"
     ]
    },
    {
     "name": "stderr",
     "output_type": "stream",
     "text": [
      "2024/10/30 19:19:46 INFO mlflow.tracking._tracking_service.client: 🏃 View run caring-asp-768 at: http://127.0.0.1:8080/#/experiments/322195731213365606/runs/71ad4555cc0f4484a0e2b7c8b8b57b72.\n",
      "\n",
      "2024/10/30 19:19:46 INFO mlflow.tracking._tracking_service.client: 🧪 View experiment at: http://127.0.0.1:8080/#/experiments/322195731213365606.\n",
      "\n"
     ]
    },
    {
     "name": "stdout",
     "output_type": "stream",
     "text": [
      "\r",
      " 90%|███████████████████████████████████████████████████████▊      | 45/50 [00:42<00:05,  1.01s/trial, best loss: -1.0]"
     ]
    },
    {
     "name": "stderr",
     "output_type": "stream",
     "text": [
      "2024/10/30 19:19:47 INFO mlflow.tracking._tracking_service.client: 🏃 View run gregarious-zebra-977 at: http://127.0.0.1:8080/#/experiments/322195731213365606/runs/ab32de84c660402697b9115efb90377b.\n",
      "\n",
      "2024/10/30 19:19:47 INFO mlflow.tracking._tracking_service.client: 🧪 View experiment at: http://127.0.0.1:8080/#/experiments/322195731213365606.\n",
      "\n"
     ]
    },
    {
     "name": "stdout",
     "output_type": "stream",
     "text": [
      "\r",
      " 92%|█████████████████████████████████████████████████████████     | 46/50 [00:43<00:04,  1.13s/trial, best loss: -1.0]"
     ]
    },
    {
     "name": "stderr",
     "output_type": "stream",
     "text": [
      "2024/10/30 19:19:48 INFO mlflow.tracking._tracking_service.client: 🏃 View run likeable-fish-607 at: http://127.0.0.1:8080/#/experiments/322195731213365606/runs/96f496925b7e420a9d4ddf1248fcbe47.\n",
      "\n",
      "2024/10/30 19:19:48 INFO mlflow.tracking._tracking_service.client: 🧪 View experiment at: http://127.0.0.1:8080/#/experiments/322195731213365606.\n",
      "\n"
     ]
    },
    {
     "name": "stdout",
     "output_type": "stream",
     "text": [
      "\r",
      " 94%|██████████████████████████████████████████████████████████▎   | 47/50 [00:44<00:02,  1.04trial/s, best loss: -1.0]"
     ]
    },
    {
     "name": "stderr",
     "output_type": "stream",
     "text": [
      "2024/10/30 19:19:49 INFO mlflow.tracking._tracking_service.client: 🏃 View run monumental-ram-342 at: http://127.0.0.1:8080/#/experiments/322195731213365606/runs/4a69d4feb4f34ef2bb4774dfb85f657c.\n",
      "\n",
      "2024/10/30 19:19:49 INFO mlflow.tracking._tracking_service.client: 🧪 View experiment at: http://127.0.0.1:8080/#/experiments/322195731213365606.\n",
      "\n"
     ]
    },
    {
     "name": "stdout",
     "output_type": "stream",
     "text": [
      "\r",
      " 96%|███████████████████████████████████████████████████████████▌  | 48/50 [00:44<00:01,  1.15trial/s, best loss: -1.0]"
     ]
    },
    {
     "name": "stderr",
     "output_type": "stream",
     "text": [
      "2024/10/30 19:19:50 INFO mlflow.tracking._tracking_service.client: 🏃 View run sassy-perch-120 at: http://127.0.0.1:8080/#/experiments/322195731213365606/runs/e0c9f52db79143288a05e550aa00b1b9.\n",
      "\n",
      "2024/10/30 19:19:50 INFO mlflow.tracking._tracking_service.client: 🧪 View experiment at: http://127.0.0.1:8080/#/experiments/322195731213365606.\n",
      "\n"
     ]
    },
    {
     "name": "stdout",
     "output_type": "stream",
     "text": [
      "\r",
      " 98%|████████████████████████████████████████████████████████████▊ | 49/50 [00:46<00:00,  1.02trial/s, best loss: -1.0]"
     ]
    },
    {
     "name": "stderr",
     "output_type": "stream",
     "text": [
      "2024/10/30 19:19:51 INFO mlflow.tracking._tracking_service.client: 🏃 View run delicate-shark-256 at: http://127.0.0.1:8080/#/experiments/322195731213365606/runs/5599833d0f9c407baae909e1830f4ffc.\n",
      "\n",
      "2024/10/30 19:19:51 INFO mlflow.tracking._tracking_service.client: 🧪 View experiment at: http://127.0.0.1:8080/#/experiments/322195731213365606.\n",
      "\n"
     ]
    },
    {
     "name": "stdout",
     "output_type": "stream",
     "text": [
      "100%|██████████████████████████████████████████████████████████████| 50/50 [00:46<00:00,  1.07trial/s, best loss: -1.0]"
     ]
    },
    {
     "name": "stderr",
     "output_type": "stream",
     "text": [
      "2024/10/30 19:19:51 INFO mlflow.tracking._tracking_service.client: 🏃 View run Main Run at: http://127.0.0.1:8080/#/experiments/322195731213365606/runs/c408180d16a7464288b199be7dd24e60.\n",
      "2024/10/30 19:19:51 INFO mlflow.tracking._tracking_service.client: 🧪 View experiment at: http://127.0.0.1:8080/#/experiments/322195731213365606.\n"
     ]
    },
    {
     "name": "stdout",
     "output_type": "stream",
     "text": [
      "\n"
     ]
    }
   ],
   "source": [
    "# set the tracking uri\n",
    "\n",
    "mlflow.set_tracking_uri(\"http://127.0.0.1:8080\")\n",
    "\n",
    "mlflow.set_experiment(\"HP Tuning Hyperopt\")\n",
    "\n",
    "with mlflow.start_run(run_name='Main Run'):\n",
    "    # set the fmin function\n",
    "    trials = Trials()\n",
    "    \n",
    "    best = fmin(fn=objective, \n",
    "                space=space, \n",
    "                algo=tpe.suggest, \n",
    "                max_evals=50, \n",
    "                trials=trials)"
   ]
  },
  {
   "cell_type": "code",
   "execution_count": 10,
   "id": "c5849430",
   "metadata": {},
   "outputs": [
    {
     "data": {
      "text/plain": [
       "{'criterion': 0, 'max_depth': 9.0, 'n_estimators': 140.0}"
      ]
     },
     "execution_count": 10,
     "metadata": {},
     "output_type": "execute_result"
    }
   ],
   "source": [
    "best"
   ]
  },
  {
   "cell_type": "code",
   "execution_count": null,
   "id": "fdcf3438",
   "metadata": {},
   "outputs": [],
   "source": []
  }
 ],
 "metadata": {
  "kernelspec": {
   "display_name": "Python 3 (ipykernel)",
   "language": "python",
   "name": "python3"
  },
  "language_info": {
   "codemirror_mode": {
    "name": "ipython",
    "version": 3
   },
   "file_extension": ".py",
   "mimetype": "text/x-python",
   "name": "python",
   "nbconvert_exporter": "python",
   "pygments_lexer": "ipython3",
   "version": "3.11.5"
  }
 },
 "nbformat": 4,
 "nbformat_minor": 5
}
